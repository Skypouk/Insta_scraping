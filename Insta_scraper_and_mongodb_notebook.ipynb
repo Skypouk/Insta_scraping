{
 "cells": [
  {
   "cell_type": "markdown",
   "id": "ad6b1c8c",
   "metadata": {},
   "source": [
    "# Instagram scraper + Mongodb storage\n",
    "The aim of this notebook is to implement an instagram scraper that collects posts (images, texts and comments) for a user specified research query. And store the uploaded data into mongodb using pymongo python package."
   ]
  },
  {
   "cell_type": "markdown",
   "id": "ace4f700",
   "metadata": {},
   "source": [
    "## Scraping data from instagram\n",
    "I used instagram-scraper package in order to upload data from multiple user profiles (lemondefr, lefigarofr, franceinfo, etc). The user can specify the wanted profiles in the 'ig_users.txt' file.\n",
    "\n",
    "To lunch the import of data, the user needs to lunch the following command in the shell:<br>\n",
    "instagram-scraper --filename ig_users.txt --comments --media-types image --maximum 10 -u USERNAME -p PASSWORD\n",
    " \n",
    "For more detailed command, you can use 'collecting_data.py' python file by specifying the data_dir variable, where the downloaded data will be stored and setting the variables 'IG_USERNAME' and 'IG_PASSWORD' in a .env file. Finally, you can execute collecting_data.py"
   ]
  },
  {
   "cell_type": "markdown",
   "id": "6f2ed039",
   "metadata": {},
   "source": [
    "## Processing the downloaded data\n",
    "The aim of this part is to filter the downloaded data, and only keep the results corresponding to the user research.\n",
    "\n",
    "I followed these steps:\n",
    "<ul>\n",
    "  <li>Only keep key_words from the user research by removing punctuation and stopwords.</li>\n",
    "  <li>Only keep posts where text contains at least one keyword.</li>\n",
    "</ul>"
   ]
  },
  {
   "cell_type": "code",
   "execution_count": 13,
   "id": "e911fa57",
   "metadata": {},
   "outputs": [
    {
     "name": "stdout",
     "output_type": "stream",
     "text": [
      "['médaille', 'JO']\n"
     ]
    }
   ],
   "source": [
    "from nltk.corpus import stopwords\n",
    "from nltk.tokenize import word_tokenize\n",
    "\n",
    "#research_request = \"le décès du président Jacques Chirac.\"\n",
    "#research_request = \"covid France\"\n",
    "research_request = \"médaille JO\"\n",
    "\n",
    "# keeping the key_words\n",
    "tokens = word_tokenize(research_request)\n",
    "tokens = [word for word in tokens if not word in stopwords.words(\"french\")]\n",
    "research_key_words = [word for word in tokens if word.isalpha()]\n",
    "print(research_key_words)"
   ]
  },
  {
   "cell_type": "code",
   "execution_count": 14,
   "id": "1fe9bbc2",
   "metadata": {},
   "outputs": [
    {
     "name": "stdout",
     "output_type": "stream",
     "text": [
      "total number of uploaded posts is :50\n"
     ]
    }
   ],
   "source": [
    "import glob\n",
    "import json\n",
    "import re\n",
    "\n",
    "# concatenating all uploaded posts\n",
    "data = {'GraphImages': []}\n",
    "for json_file in glob.glob(r\"./data/*.json\"):\n",
    "    with open(json_file, \"r\", encoding='utf-8') as f: \n",
    "        local_data = json.load(f)\n",
    "        local_posts = local_data['GraphImages']\n",
    "        data['GraphImages'].extend(local_posts)\n",
    "\n",
    "print(f\"total number of uploaded posts is :{len(data['GraphImages'])}\")       "
   ]
  },
  {
   "cell_type": "code",
   "execution_count": 15,
   "id": "295e9b79",
   "metadata": {},
   "outputs": [
    {
     "name": "stdout",
     "output_type": "stream",
     "text": [
      "Numbert of filtered posts is :4\n"
     ]
    }
   ],
   "source": [
    "wanted_posts_index = []\n",
    "\n",
    "# filtering the posts using the key_words\n",
    "posts = data['GraphImages']\n",
    "for i in range(len(posts)):\n",
    "    for key_word in research_key_words:\n",
    "        if re.findall(key_word, posts[i]['edge_media_to_caption']['edges'][0]['node']['text']):\n",
    "            wanted_posts_index.append(i)\n",
    "            break\n",
    "            \n",
    "data['GraphImages'] = [posts[ind] for ind in wanted_posts_index]\n",
    "print(f\"Numbert of filtered posts is :{len(data['GraphImages'])}\")  "
   ]
  },
  {
   "cell_type": "markdown",
   "id": "09048135",
   "metadata": {},
   "source": [
    "### Possible improvements:\n",
    "<ul>\n",
    "  <li>We can add a counter and only keep posts where the text contains n key_words</li>\n",
    "  <li>We can look for those key_words in the user_comments too</li>\n",
    "</ul>"
   ]
  },
  {
   "cell_type": "markdown",
   "id": "be90e56d",
   "metadata": {},
   "source": [
    "## Storing Data in Mongodb\n",
    "The aim of this part is to store the chosen posts into a local mongodb database. Mongodb is a NoSql Database which enables the storage of data as documents inside Collections.\n",
    "\n",
    "I will store the posts data (in the json semi-structured format) in a Collection 'posts', and images in a Collection 'images'.\n",
    "\n",
    "In a real business project, the choice of the database model rely heavily on how the data will be used. (number and frequency of queries like inserts, updates, etc)"
   ]
  },
  {
   "cell_type": "code",
   "execution_count": 16,
   "id": "449ef24a",
   "metadata": {},
   "outputs": [],
   "source": [
    "from pymongo import MongoClient\n",
    "\n",
    "client = MongoClient(host='localhost', port=27017)\n",
    "\n",
    "# creating database if it doesn't exists \n",
    "db = client['scraping_db']\n",
    "\n",
    "# creating collections\n",
    "post_col = db.posts\n",
    "\n",
    "# inserting the chosen posts into the posts collection\n",
    "res = post_col.insert_many(data['GraphImages'])"
   ]
  },
  {
   "cell_type": "code",
   "execution_count": 17,
   "id": "06e4b28d",
   "metadata": {},
   "outputs": [],
   "source": [
    "# inserting the images into the images collection\n",
    "import gridfs\n",
    "\n",
    "#Create an object of GridFs for the above database.\n",
    "gf = gridfs.GridFS(db)\n",
    "\n",
    "for image in glob.glob(r\"./data/*.jpg\"):\n",
    "    # opening the image in read-only binary format.\n",
    "    with open(image, 'rb') as f:\n",
    "        contents = f.read()\n",
    "\n",
    "    # storing the image via GridFs object.\n",
    "    fs.put(contents, filename=image)"
   ]
  }
 ],
 "metadata": {
  "kernelspec": {
   "display_name": "p02",
   "language": "python",
   "name": "p02"
  },
  "language_info": {
   "codemirror_mode": {
    "name": "ipython",
    "version": 3
   },
   "file_extension": ".py",
   "mimetype": "text/x-python",
   "name": "python",
   "nbconvert_exporter": "python",
   "pygments_lexer": "ipython3",
   "version": "3.8.10"
  }
 },
 "nbformat": 4,
 "nbformat_minor": 5
}
